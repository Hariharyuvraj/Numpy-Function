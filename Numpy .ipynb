{
 "cells": [
  {
   "cell_type": "code",
   "execution_count": 17,
   "id": "10f68488-e52d-4b6e-864e-7d74d2083c68",
   "metadata": {},
   "outputs": [],
   "source": [
    "#Creating numpy/n-d arrays\n",
    "\n",
    "import numpy as np\n"
   ]
  },
  {
   "cell_type": "code",
   "execution_count": 47,
   "id": "9e7ea9ec-4531-45a0-8bac-db3b23b78088",
   "metadata": {},
   "outputs": [],
   "source": [
    "# how to creat numpy/n-d arrays\n",
    "# we can creat array by passing list in this function..\n",
    "\n",
    "arr1=np.array([1,2,3,4,5])"
   ]
  },
  {
   "cell_type": "code",
   "execution_count": 48,
   "id": "0ffa4a97-ff0a-41ed-b1a2-48ef07980d6a",
   "metadata": {},
   "outputs": [
    {
     "data": {
      "text/plain": [
       "array([1, 2, 3, 4, 5])"
      ]
     },
     "execution_count": 48,
     "metadata": {},
     "output_type": "execute_result"
    }
   ],
   "source": [
    "arr1\n"
   ]
  },
  {
   "cell_type": "code",
   "execution_count": 49,
   "id": "9c23f5f8-7351-4b4f-aeb7-0603ecbf89ba",
   "metadata": {},
   "outputs": [
    {
     "data": {
      "text/plain": [
       "numpy.ndarray"
      ]
     },
     "execution_count": 49,
     "metadata": {},
     "output_type": "execute_result"
    }
   ],
   "source": [
    "type(arr1)"
   ]
  },
  {
   "cell_type": "code",
   "execution_count": 50,
   "id": "3a4ee0dc-8ea4-4a8c-bfab-3cc53946290f",
   "metadata": {},
   "outputs": [
    {
     "data": {
      "text/plain": [
       "array([[1, 2, 3, 4, 5],\n",
       "       [3, 5, 7, 9, 0],\n",
       "       [1, 4, 7, 9, 0]])"
      ]
     },
     "execution_count": 50,
     "metadata": {},
     "output_type": "execute_result"
    }
   ],
   "source": [
    "arr2=np.array([[1,2,3,4,5],[3,5,7,9,0],[1,4,7,9,0]])\n",
    "arr2\n"
   ]
  },
  {
   "cell_type": "code",
   "execution_count": 52,
   "id": "9144edcc-1f60-49d6-be97-e50bb0b65e84",
   "metadata": {},
   "outputs": [],
   "source": [
    "arr3=np.zeros((2,3))"
   ]
  },
  {
   "cell_type": "code",
   "execution_count": 53,
   "id": "359c3392-8512-48c2-8e9e-e0d3a1892f14",
   "metadata": {},
   "outputs": [
    {
     "data": {
      "text/plain": [
       "array([[0., 0., 0.],\n",
       "       [0., 0., 0.]])"
      ]
     },
     "execution_count": 53,
     "metadata": {},
     "output_type": "execute_result"
    }
   ],
   "source": [
    "arr3\n",
    "\n"
   ]
  },
  {
   "cell_type": "code",
   "execution_count": 55,
   "id": "d9218d53-69a9-47cf-882b-27f4a49bd50b",
   "metadata": {},
   "outputs": [
    {
     "data": {
      "text/plain": [
       "array([[1., 1., 1.],\n",
       "       [1., 1., 1.]])"
      ]
     },
     "execution_count": 55,
     "metadata": {},
     "output_type": "execute_result"
    }
   ],
   "source": [
    "arr4=np.ones((2,3))\n",
    "arr4"
   ]
  },
  {
   "cell_type": "code",
   "execution_count": 57,
   "id": "dd42916d-8594-4b43-b454-28f7013eac11",
   "metadata": {},
   "outputs": [
    {
     "data": {
      "text/plain": [
       "array([[1., 1., 1., 1.],\n",
       "       [1., 1., 1., 1.],\n",
       "       [1., 1., 1., 1.],\n",
       "       [1., 1., 1., 1.]])"
      ]
     },
     "execution_count": 57,
     "metadata": {},
     "output_type": "execute_result"
    }
   ],
   "source": [
    "arr5=np.ones((4,4))\n",
    "arr5"
   ]
  },
  {
   "cell_type": "code",
   "execution_count": 59,
   "id": "07f271a5-e668-4cf5-8ce3-fe42ac70ed0c",
   "metadata": {},
   "outputs": [
    {
     "data": {
      "text/plain": [
       "array([[1., 0., 0., 0., 0.],\n",
       "       [0., 1., 0., 0., 0.],\n",
       "       [0., 0., 1., 0., 0.],\n",
       "       [0., 0., 0., 1., 0.],\n",
       "       [0., 0., 0., 0., 1.]])"
      ]
     },
     "execution_count": 59,
     "metadata": {},
     "output_type": "execute_result"
    }
   ],
   "source": [
    "# we can creat identity matrix by using this funtion\n",
    "\n",
    "arr6=np.identity(5)\n",
    "arr6"
   ]
  },
  {
   "cell_type": "code",
   "execution_count": 67,
   "id": "700ea0cf-d737-48dd-add7-f02d0b29e6ba",
   "metadata": {},
   "outputs": [
    {
     "data": {
      "text/plain": [
       "array([10, 15, 20, 25, 30, 35, 40, 45, 50])"
      ]
     },
     "execution_count": 67,
     "metadata": {},
     "output_type": "execute_result"
    }
   ],
   "source": [
    "arr7=np.arange(10,51,5)\n",
    "arr7"
   ]
  },
  {
   "cell_type": "code",
   "execution_count": 69,
   "id": "d6ef5420-3760-4d4e-9cfe-7431373baadd",
   "metadata": {},
   "outputs": [
    {
     "data": {
      "text/plain": [
       "array([ 0,  1,  2,  3,  4,  5,  6,  7,  8,  9, 10])"
      ]
     },
     "execution_count": 69,
     "metadata": {},
     "output_type": "execute_result"
    }
   ],
   "source": [
    "arr8=np.arange(0,11,1)\n",
    "arr8\n"
   ]
  },
  {
   "cell_type": "code",
   "execution_count": 71,
   "id": "8349e88e-b654-4df9-b025-11337be8a0a9",
   "metadata": {},
   "outputs": [
    {
     "data": {
      "text/plain": [
       "array([10. , 12.5, 15. , 17.5, 20. ])"
      ]
     },
     "execution_count": 71,
     "metadata": {},
     "output_type": "execute_result"
    }
   ],
   "source": [
    "# we can make equal no.of parts in given range\n",
    "# we have to give upper,lower limit and number in which parts to be made.\n",
    "\n",
    "arr9 = np.linspace(10,20,5)\n",
    "arr9"
   ]
  },
  {
   "cell_type": "code",
   "execution_count": 44,
   "id": "994f30d0-475e-4e5a-81ff-dc284a1cd51f",
   "metadata": {},
   "outputs": [],
   "source": [
    "#  .shape\n",
    "# by using this we can check the how many rows and column are in that array"
   ]
  },
  {
   "cell_type": "code",
   "execution_count": 72,
   "id": "6a4e5c20-e4ef-497b-8fc0-55ad0e9593b1",
   "metadata": {},
   "outputs": [
    {
     "data": {
      "text/plain": [
       "array([[1., 0., 0., 0., 0.],\n",
       "       [0., 1., 0., 0., 0.],\n",
       "       [0., 0., 1., 0., 0.],\n",
       "       [0., 0., 0., 1., 0.],\n",
       "       [0., 0., 0., 0., 1.]])"
      ]
     },
     "execution_count": 72,
     "metadata": {},
     "output_type": "execute_result"
    }
   ],
   "source": [
    "arr6"
   ]
  },
  {
   "cell_type": "code",
   "execution_count": 73,
   "id": "7c4750d9-5c18-48e1-9054-c10d8aadd313",
   "metadata": {},
   "outputs": [
    {
     "data": {
      "text/plain": [
       "(5, 5)"
      ]
     },
     "execution_count": 73,
     "metadata": {},
     "output_type": "execute_result"
    }
   ],
   "source": [
    "arr6.shape"
   ]
  },
  {
   "cell_type": "code",
   "execution_count": 74,
   "id": "26fdfb91-eb65-4be2-bf38-eaf6f2f67f53",
   "metadata": {},
   "outputs": [
    {
     "data": {
      "text/plain": [
       "(5,)"
      ]
     },
     "execution_count": 74,
     "metadata": {},
     "output_type": "execute_result"
    }
   ],
   "source": [
    "arr9.shape"
   ]
  },
  {
   "cell_type": "code",
   "execution_count": 75,
   "id": "31bbdc2e-822e-4522-bf01-35fa62dcca18",
   "metadata": {},
   "outputs": [
    {
     "data": {
      "text/plain": [
       "(5,)"
      ]
     },
     "execution_count": 75,
     "metadata": {},
     "output_type": "execute_result"
    }
   ],
   "source": [
    "arr1.shape"
   ]
  },
  {
   "cell_type": "code",
   "execution_count": 76,
   "id": "d22cb73f-00db-4a87-8e80-7557cf0a3c85",
   "metadata": {},
   "outputs": [
    {
     "data": {
      "text/plain": [
       "(2, 3)"
      ]
     },
     "execution_count": 76,
     "metadata": {},
     "output_type": "execute_result"
    }
   ],
   "source": [
    "arr3.shape"
   ]
  },
  {
   "cell_type": "code",
   "execution_count": 77,
   "id": "5cb7222e-72bd-4cc0-a54f-b92c9806d882",
   "metadata": {},
   "outputs": [
    {
     "data": {
      "text/plain": [
       "(2, 3)"
      ]
     },
     "execution_count": 77,
     "metadata": {},
     "output_type": "execute_result"
    }
   ],
   "source": [
    "arr4.shape"
   ]
  },
  {
   "cell_type": "code",
   "execution_count": 82,
   "id": "7ad0aca9-65a8-4d64-a72a-bd47f34c82d9",
   "metadata": {},
   "outputs": [
    {
     "data": {
      "text/plain": [
       "array([[[1, 2],\n",
       "        [3, 4]],\n",
       "\n",
       "       [[5, 6],\n",
       "        [7, 8]]])"
      ]
     },
     "execution_count": 82,
     "metadata": {},
     "output_type": "execute_result"
    }
   ],
   "source": [
    "arr10=np.array([[[1,2],[3,4]],[[5,6],[7,8]]])\n",
    "arr10"
   ]
  },
  {
   "cell_type": "code",
   "execution_count": 83,
   "id": "d00de67b-1cc5-4c9f-82e0-f917a89a6065",
   "metadata": {},
   "outputs": [
    {
     "data": {
      "text/plain": [
       "(2, 2, 2)"
      ]
     },
     "execution_count": 83,
     "metadata": {},
     "output_type": "execute_result"
    }
   ],
   "source": [
    "arr10.shape"
   ]
  },
  {
   "cell_type": "code",
   "execution_count": 90,
   "id": "2e0c85e7-1512-48b0-9e0e-906d6308a259",
   "metadata": {},
   "outputs": [],
   "source": [
    "# .ndim we can use this attribute for checking the dimention of matrix/array"
   ]
  },
  {
   "cell_type": "code",
   "execution_count": 84,
   "id": "298cbcd3-edb9-4feb-9b5c-9afa6898714a",
   "metadata": {},
   "outputs": [
    {
     "data": {
      "text/plain": [
       "3"
      ]
     },
     "execution_count": 84,
     "metadata": {},
     "output_type": "execute_result"
    }
   ],
   "source": [
    "arr10.ndim"
   ]
  },
  {
   "cell_type": "code",
   "execution_count": 85,
   "id": "332a5a68-e991-4291-87a8-7e388f355c85",
   "metadata": {},
   "outputs": [
    {
     "data": {
      "text/plain": [
       "2"
      ]
     },
     "execution_count": 85,
     "metadata": {},
     "output_type": "execute_result"
    }
   ],
   "source": [
    "arr4.ndim"
   ]
  },
  {
   "cell_type": "code",
   "execution_count": 86,
   "id": "72519965-32ec-4b4f-94d4-66aeb67c54e1",
   "metadata": {},
   "outputs": [
    {
     "data": {
      "text/plain": [
       "2"
      ]
     },
     "execution_count": 86,
     "metadata": {},
     "output_type": "execute_result"
    }
   ],
   "source": [
    "arr2.ndim"
   ]
  },
  {
   "cell_type": "code",
   "execution_count": 89,
   "id": "4a011bac-2404-49e5-9fe6-afc874cae11e",
   "metadata": {},
   "outputs": [
    {
     "data": {
      "text/plain": [
       "2"
      ]
     },
     "execution_count": 89,
     "metadata": {},
     "output_type": "execute_result"
    }
   ],
   "source": [
    "arr6.ndim"
   ]
  },
  {
   "cell_type": "code",
   "execution_count": 91,
   "id": "717070f7-a983-4af4-a0ab-8417eddf1def",
   "metadata": {},
   "outputs": [],
   "source": [
    "# .size by using this funtion we can find the no.of item of array"
   ]
  },
  {
   "cell_type": "code",
   "execution_count": 92,
   "id": "69085490-3cb4-4533-bfce-15152816999f",
   "metadata": {},
   "outputs": [
    {
     "data": {
      "text/plain": [
       "5"
      ]
     },
     "execution_count": 92,
     "metadata": {},
     "output_type": "execute_result"
    }
   ],
   "source": [
    "arr9.size"
   ]
  },
  {
   "cell_type": "code",
   "execution_count": 93,
   "id": "147d6714-7458-40d4-9395-2693a07d699d",
   "metadata": {},
   "outputs": [
    {
     "data": {
      "text/plain": [
       "25"
      ]
     },
     "execution_count": 93,
     "metadata": {},
     "output_type": "execute_result"
    }
   ],
   "source": [
    "arr6.size"
   ]
  },
  {
   "cell_type": "code",
   "execution_count": 94,
   "id": "c31e1799-6d66-4026-840c-87ed9b01decb",
   "metadata": {},
   "outputs": [
    {
     "data": {
      "text/plain": [
       "8"
      ]
     },
     "execution_count": 94,
     "metadata": {},
     "output_type": "execute_result"
    }
   ],
   "source": [
    "arr10.size"
   ]
  },
  {
   "cell_type": "code",
   "execution_count": 95,
   "id": "df6e1147-3285-4acc-97d8-13db3b7f840f",
   "metadata": {},
   "outputs": [],
   "source": [
    "# .itemsize "
   ]
  },
  {
   "cell_type": "code",
   "execution_count": 96,
   "id": "3100406d-bf39-4a3c-b217-48dcdfa1fc0c",
   "metadata": {},
   "outputs": [
    {
     "data": {
      "text/plain": [
       "8"
      ]
     },
     "execution_count": 96,
     "metadata": {},
     "output_type": "execute_result"
    }
   ],
   "source": [
    "arr9.itemsize"
   ]
  },
  {
   "cell_type": "code",
   "execution_count": 97,
   "id": "accf439c-0f57-4217-aac7-fd38d3375b09",
   "metadata": {},
   "outputs": [
    {
     "data": {
      "text/plain": [
       "8"
      ]
     },
     "execution_count": 97,
     "metadata": {},
     "output_type": "execute_result"
    }
   ],
   "source": [
    "arr6.itemsize"
   ]
  },
  {
   "cell_type": "code",
   "execution_count": 98,
   "id": "d8cf33fa-ca18-4efd-afbd-3603281ee1e9",
   "metadata": {},
   "outputs": [],
   "source": [
    "##  \".astype()\" by using this function we can convert the data 'float' to 'int' and 'int' to 'float'"
   ]
  },
  {
   "cell_type": "code",
   "execution_count": 99,
   "id": "c202d8d3-56f1-462c-a630-a9a871804d5d",
   "metadata": {},
   "outputs": [
    {
     "data": {
      "text/plain": [
       "array([[1., 0., 0., 0., 0.],\n",
       "       [0., 1., 0., 0., 0.],\n",
       "       [0., 0., 1., 0., 0.],\n",
       "       [0., 0., 0., 1., 0.],\n",
       "       [0., 0., 0., 0., 1.]])"
      ]
     },
     "execution_count": 99,
     "metadata": {},
     "output_type": "execute_result"
    }
   ],
   "source": [
    "arr6.astype('float')"
   ]
  },
  {
   "cell_type": "code",
   "execution_count": 100,
   "id": "2905cc0f-ea7b-44f6-8f3d-cf1b803b23ec",
   "metadata": {},
   "outputs": [
    {
     "data": {
      "text/plain": [
       "array([10, 12, 15, 17, 20])"
      ]
     },
     "execution_count": 100,
     "metadata": {},
     "output_type": "execute_result"
    }
   ],
   "source": [
    "arr9.astype('int')"
   ]
  },
  {
   "cell_type": "code",
   "execution_count": 15,
   "id": "2e96677d-edc6-46c8-aac2-f03f97393e51",
   "metadata": {},
   "outputs": [],
   "source": [
    "# 'reshape()' by using this function we can convert the array into required shape in the form of row*column "
   ]
  },
  {
   "cell_type": "code",
   "execution_count": 40,
   "id": "0aa1608c-abb4-4249-9cd0-376b3175c41a",
   "metadata": {},
   "outputs": [
    {
     "data": {
      "text/plain": [
       "array([[ 0,  1,  2,  3],\n",
       "       [ 4,  5,  6,  7],\n",
       "       [ 8,  9, 10, 11],\n",
       "       [12, 13, 14, 15],\n",
       "       [16, 17, 18, 19],\n",
       "       [20, 21, 22, 23]])"
      ]
     },
     "execution_count": 40,
     "metadata": {},
     "output_type": "execute_result"
    }
   ],
   "source": [
    "arr11=np.arange(24).reshape(6,4)\n",
    "arr11"
   ]
  },
  {
   "cell_type": "code",
   "execution_count": 52,
   "id": "ad9b9203-6362-4e87-80e6-72aa5d945f3a",
   "metadata": {},
   "outputs": [
    {
     "data": {
      "text/plain": [
       "array([[ 0,  1,  2],\n",
       "       [ 3,  4,  5],\n",
       "       [ 6,  7,  8],\n",
       "       [ 9, 10, 11],\n",
       "       [12, 13, 14],\n",
       "       [15, 16, 17],\n",
       "       [18, 19, 20],\n",
       "       [21, 22, 23]])"
      ]
     },
     "execution_count": 52,
     "metadata": {},
     "output_type": "execute_result"
    }
   ],
   "source": [
    "arr11.reshape(8,3)\n",
    "# given array will convert in 8 rows and 3 columns"
   ]
  },
  {
   "cell_type": "code",
   "execution_count": 55,
   "id": "c2819e17-20ea-493e-a852-96fdb2189cf5",
   "metadata": {},
   "outputs": [
    {
     "data": {
      "text/plain": [
       "array([[ 0,  1],\n",
       "       [ 2,  3],\n",
       "       [ 4,  5],\n",
       "       [ 6,  7],\n",
       "       [ 8,  9],\n",
       "       [10, 11],\n",
       "       [12, 13],\n",
       "       [14, 15],\n",
       "       [16, 17],\n",
       "       [18, 19],\n",
       "       [20, 21],\n",
       "       [22, 23]])"
      ]
     },
     "execution_count": 55,
     "metadata": {},
     "output_type": "execute_result"
    }
   ],
   "source": [
    "arr11.reshape(12,2)"
   ]
  },
  {
   "cell_type": "code",
   "execution_count": 56,
   "id": "c7078bab-72da-42d5-87a2-913b508bb8a4",
   "metadata": {},
   "outputs": [
    {
     "data": {
      "text/plain": [
       "array([[ 0,  1,  2],\n",
       "       [ 3,  4,  5],\n",
       "       [ 6,  7,  8],\n",
       "       [ 9, 10, 11],\n",
       "       [12, 13, 14],\n",
       "       [15, 16, 17],\n",
       "       [18, 19, 20],\n",
       "       [21, 22, 23]])"
      ]
     },
     "execution_count": 56,
     "metadata": {},
     "output_type": "execute_result"
    }
   ],
   "source": [
    "arr11.reshape(8,3)"
   ]
  },
  {
   "cell_type": "code",
   "execution_count": 42,
   "id": "76927eea-d49d-47c5-89ac-6ff3fb16d0fb",
   "metadata": {},
   "outputs": [
    {
     "data": {
      "text/plain": [
       "array([[ 0,  1,  2,  3],\n",
       "       [ 4,  5,  6,  7],\n",
       "       [ 8,  9, 10, 11],\n",
       "       [12, 13, 14, 15],\n",
       "       [16, 17, 18, 19],\n",
       "       [20, 21, 22, 23]])"
      ]
     },
     "execution_count": 42,
     "metadata": {},
     "output_type": "execute_result"
    }
   ],
   "source": [
    "arr11"
   ]
  },
  {
   "cell_type": "code",
   "execution_count": 57,
   "id": "6cad8154-31bd-4cf1-8917-b4031d6b6196",
   "metadata": {},
   "outputs": [],
   "source": [
    "## slice-Operation \n"
   ]
  },
  {
   "cell_type": "code",
   "execution_count": 59,
   "id": "d4002950-4fda-4dec-8298-865f149c3cd8",
   "metadata": {},
   "outputs": [
    {
     "data": {
      "text/plain": [
       "array([13, 14])"
      ]
     },
     "execution_count": 59,
     "metadata": {},
     "output_type": "execute_result"
    }
   ],
   "source": [
    "arr11[3,1:3]\n",
    "\n",
    "# i want to extract 13,14 number in this array"
   ]
  },
  {
   "cell_type": "code",
   "execution_count": 60,
   "id": "7ae13146-7eb8-435b-b6ff-730b1eeb5e8e",
   "metadata": {},
   "outputs": [
    {
     "data": {
      "text/plain": [
       "array([[18, 19],\n",
       "       [22, 23]])"
      ]
     },
     "execution_count": 60,
     "metadata": {},
     "output_type": "execute_result"
    }
   ],
   "source": [
    "arr11[4:6,2:4]"
   ]
  },
  {
   "cell_type": "code",
   "execution_count": 53,
   "id": "a5efd51f-5165-46d3-a905-82c97d96cdbb",
   "metadata": {},
   "outputs": [
    {
     "data": {
      "text/plain": [
       "array([ 8,  9, 10, 11])"
      ]
     },
     "execution_count": 53,
     "metadata": {},
     "output_type": "execute_result"
    }
   ],
   "source": [
    "arr11[2]\n",
    "\n",
    "# we get 3rd rows in above array\n"
   ]
  },
  {
   "cell_type": "code",
   "execution_count": 44,
   "id": "4b0cde9c-de31-4ce4-bbf4-dac1e84a40c6",
   "metadata": {},
   "outputs": [
    {
     "data": {
      "text/plain": [
       "array([12, 13, 14, 15])"
      ]
     },
     "execution_count": 44,
     "metadata": {},
     "output_type": "execute_result"
    }
   ],
   "source": [
    "arr11[3]"
   ]
  },
  {
   "cell_type": "code",
   "execution_count": 45,
   "id": "204596b3-7f99-48ba-a49c-ea89a82395ef",
   "metadata": {},
   "outputs": [
    {
     "data": {
      "text/plain": [
       "array([20, 21, 22, 23])"
      ]
     },
     "execution_count": 45,
     "metadata": {},
     "output_type": "execute_result"
    }
   ],
   "source": [
    "arr11[-1]"
   ]
  },
  {
   "cell_type": "code",
   "execution_count": 48,
   "id": "56995846-f2bd-4e14-af9a-d274766dfa6e",
   "metadata": {},
   "outputs": [
    {
     "data": {
      "text/plain": [
       "array([[ 4,  5,  6,  7],\n",
       "       [ 8,  9, 10, 11],\n",
       "       [12, 13, 14, 15]])"
      ]
     },
     "execution_count": 48,
     "metadata": {},
     "output_type": "execute_result"
    }
   ],
   "source": [
    "arr11[1:4]"
   ]
  },
  {
   "cell_type": "code",
   "execution_count": 51,
   "id": "d6e8ce91-9232-444d-951c-88d9a8e7fdb9",
   "metadata": {},
   "outputs": [
    {
     "data": {
      "text/plain": [
       "array([[ 1,  2],\n",
       "       [ 5,  6],\n",
       "       [ 9, 10],\n",
       "       [13, 14],\n",
       "       [17, 18],\n",
       "       [21, 22]])"
      ]
     },
     "execution_count": 51,
     "metadata": {},
     "output_type": "execute_result"
    }
   ],
   "source": [
    "arr11[:,1:3]"
   ]
  },
  {
   "cell_type": "code",
   "execution_count": 64,
   "id": "a3b4ca1f-e243-4e56-be55-4e2a8723be55",
   "metadata": {},
   "outputs": [],
   "source": [
    "#####   'Iteration'\n"
   ]
  },
  {
   "cell_type": "code",
   "execution_count": 62,
   "id": "47ba0a9d-81e0-4233-8914-96cfcb43baf9",
   "metadata": {},
   "outputs": [
    {
     "name": "stdout",
     "output_type": "stream",
     "text": [
      "[0 1 2 3]\n",
      "[4 5 6 7]\n",
      "[ 8  9 10 11]\n",
      "[12 13 14 15]\n",
      "[16 17 18 19]\n",
      "[20 21 22 23]\n"
     ]
    }
   ],
   "source": [
    "for i in arr11:\n",
    "    print(i)"
   ]
  },
  {
   "cell_type": "code",
   "execution_count": 63,
   "id": "b901e66e-cca4-4652-bb24-c34a68648398",
   "metadata": {},
   "outputs": [
    {
     "name": "stdout",
     "output_type": "stream",
     "text": [
      "0\n",
      "1\n",
      "2\n",
      "3\n",
      "4\n",
      "5\n",
      "6\n",
      "7\n",
      "8\n",
      "9\n",
      "10\n",
      "11\n",
      "12\n",
      "13\n",
      "14\n",
      "15\n",
      "16\n",
      "17\n",
      "18\n",
      "19\n",
      "20\n",
      "21\n",
      "22\n",
      "23\n"
     ]
    }
   ],
   "source": [
    "for i in np.nditer(arr11):\n",
    "    print(i)"
   ]
  },
  {
   "cell_type": "code",
   "execution_count": 1,
   "id": "43bd5f49-f286-4e12-9d9b-c47ec081f977",
   "metadata": {},
   "outputs": [],
   "source": [
    "import numpy as np\n"
   ]
  },
  {
   "cell_type": "code",
   "execution_count": 7,
   "id": "5c2abbe8-3bc1-4d13-a93f-b1dcad35475f",
   "metadata": {},
   "outputs": [],
   "source": [
    "arr0=np.array([1,2,3,4,5])\n",
    "arr00=np.array([6,7,8,9,10])\n",
    "\n",
    "## various operations on array"
   ]
  },
  {
   "cell_type": "code",
   "execution_count": 9,
   "id": "b5ddbcca-35f6-4c83-ab07-175d40afe89e",
   "metadata": {},
   "outputs": [
    {
     "data": {
      "text/plain": [
       "array([ 6, 14, 24, 36, 50])"
      ]
     },
     "execution_count": 9,
     "metadata": {},
     "output_type": "execute_result"
    }
   ],
   "source": [
    "arr0*arr00                  # multiplication"
   ]
  },
  {
   "cell_type": "code",
   "execution_count": 10,
   "id": "e6ebe900-3231-4834-a4fa-2ccc495fc5e9",
   "metadata": {},
   "outputs": [
    {
     "data": {
      "text/plain": [
       "array([-5, -5, -5, -5, -5])"
      ]
     },
     "execution_count": 10,
     "metadata": {},
     "output_type": "execute_result"
    }
   ],
   "source": [
    "arr0-arr00                 # substraction"
   ]
  },
  {
   "cell_type": "code",
   "execution_count": 11,
   "id": "e50fd55d-f13a-4fa6-b558-1c5eedb19353",
   "metadata": {},
   "outputs": [
    {
     "data": {
      "text/plain": [
       "array([ 7,  9, 11, 13, 15])"
      ]
     },
     "execution_count": 11,
     "metadata": {},
     "output_type": "execute_result"
    }
   ],
   "source": [
    "arr0+arr00         #adition"
   ]
  },
  {
   "cell_type": "code",
   "execution_count": 12,
   "id": "2ec1e901-cfdc-49bc-9201-a768b583a6d3",
   "metadata": {},
   "outputs": [
    {
     "data": {
      "text/plain": [
       "array([ 2,  4,  6,  8, 10])"
      ]
     },
     "execution_count": 12,
     "metadata": {},
     "output_type": "execute_result"
    }
   ],
   "source": [
    "arr0*2"
   ]
  },
  {
   "cell_type": "code",
   "execution_count": 13,
   "id": "6fc559d7-81d7-4fc1-93c9-0d8291ccfe9e",
   "metadata": {},
   "outputs": [
    {
     "data": {
      "text/plain": [
       "array([24, 28, 32, 36, 40])"
      ]
     },
     "execution_count": 13,
     "metadata": {},
     "output_type": "execute_result"
    }
   ],
   "source": [
    "arr00*4"
   ]
  },
  {
   "cell_type": "code",
   "execution_count": 14,
   "id": "b143df36-318b-4032-b7c4-f000214bf65c",
   "metadata": {},
   "outputs": [
    {
     "data": {
      "text/plain": [
       "array([False, False, False, False,  True])"
      ]
     },
     "execution_count": 14,
     "metadata": {},
     "output_type": "execute_result"
    }
   ],
   "source": [
    "arr0>4"
   ]
  },
  {
   "cell_type": "code",
   "execution_count": 16,
   "id": "1572e598-6dbe-4da3-a317-9aa29b8bbeae",
   "metadata": {},
   "outputs": [
    {
     "data": {
      "text/plain": [
       "array([False,  True,  True,  True,  True])"
      ]
     },
     "execution_count": 16,
     "metadata": {},
     "output_type": "execute_result"
    }
   ],
   "source": [
    "arr00>6"
   ]
  },
  {
   "cell_type": "code",
   "execution_count": 3,
   "id": "85ce4c2b-aad9-4422-bc58-8e268d9e9850",
   "metadata": {},
   "outputs": [],
   "source": [
    "import numpy as np"
   ]
  },
  {
   "cell_type": "code",
   "execution_count": 10,
   "id": "3c4d0af1-942d-4cb1-a238-b59ae45dd515",
   "metadata": {},
   "outputs": [
    {
     "data": {
      "text/plain": [
       "array([[ 6,  7],\n",
       "       [ 8,  9],\n",
       "       [10, 11]])"
      ]
     },
     "execution_count": 10,
     "metadata": {},
     "output_type": "execute_result"
    }
   ],
   "source": [
    "arr3=np.arange(6).reshape(2,3)\n",
    "\n",
    "arr4=np.arange(6,12).reshape(3,2)\n",
    "\n",
    "arr3\n",
    "arr4\n"
   ]
  },
  {
   "cell_type": "code",
   "execution_count": 13,
   "id": "92ad70cd-0d80-42ec-a865-9a2a10aa1dd7",
   "metadata": {},
   "outputs": [
    {
     "data": {
      "text/plain": [
       "array([[ 28,  31],\n",
       "       [100, 112]])"
      ]
     },
     "execution_count": 13,
     "metadata": {},
     "output_type": "execute_result"
    }
   ],
   "source": [
    "arr3.dot(arr4)\n",
    "\n",
    "## In this dot funtion R*C=C*R when both matrix having same column number then and only then dot product function will apply."
   ]
  },
  {
   "cell_type": "code",
   "execution_count": 14,
   "id": "ec213159-631d-49c2-b773-d8bbcc4211eb",
   "metadata": {},
   "outputs": [
    {
     "data": {
      "text/plain": [
       "array([[ 6,  7],\n",
       "       [ 8,  9],\n",
       "       [10, 11]])"
      ]
     },
     "execution_count": 14,
     "metadata": {},
     "output_type": "execute_result"
    }
   ],
   "source": [
    "arr4\n"
   ]
  },
  {
   "cell_type": "code",
   "execution_count": 16,
   "id": "ad688017-1ef1-4c15-8fed-72b22d196349",
   "metadata": {},
   "outputs": [
    {
     "data": {
      "text/plain": [
       "11"
      ]
     },
     "execution_count": 16,
     "metadata": {},
     "output_type": "execute_result"
    }
   ],
   "source": [
    "\n",
    "arr4.max()"
   ]
  },
  {
   "cell_type": "code",
   "execution_count": 17,
   "id": "eedd9893-124f-4e53-81c3-cc708f1b0812",
   "metadata": {},
   "outputs": [
    {
     "data": {
      "text/plain": [
       "6"
      ]
     },
     "execution_count": 17,
     "metadata": {},
     "output_type": "execute_result"
    }
   ],
   "source": [
    "arr4.min()"
   ]
  },
  {
   "cell_type": "code",
   "execution_count": 19,
   "id": "b7375156-254d-491f-a714-8922d6b18013",
   "metadata": {},
   "outputs": [
    {
     "data": {
      "text/plain": [
       "array([6, 7])"
      ]
     },
     "execution_count": 19,
     "metadata": {},
     "output_type": "execute_result"
    }
   ],
   "source": [
    "arr4.min(axis=0) \n",
    "\n",
    "# when we do \"axis=0\" then column wise which value is minimum this answer will show"
   ]
  },
  {
   "cell_type": "code",
   "execution_count": 21,
   "id": "9efd389e-c058-4ab6-a891-952e1ed97926",
   "metadata": {},
   "outputs": [
    {
     "data": {
      "text/plain": [
       "array([ 6,  8, 10])"
      ]
     },
     "execution_count": 21,
     "metadata": {},
     "output_type": "execute_result"
    }
   ],
   "source": [
    "arr4.min(axis=1)\n",
    "\n",
    "# # when we do \"axis=1\" then row wise which value is minimum this answer will show"
   ]
  },
  {
   "cell_type": "code",
   "execution_count": 22,
   "id": "d4e42159-5cf9-4253-8ef4-3bd100f6d0ac",
   "metadata": {},
   "outputs": [
    {
     "data": {
      "text/plain": [
       "array([10, 11])"
      ]
     },
     "execution_count": 22,
     "metadata": {},
     "output_type": "execute_result"
    }
   ],
   "source": [
    "arr4.max(axis=0)"
   ]
  },
  {
   "cell_type": "code",
   "execution_count": 23,
   "id": "9783c62c-7dcd-4f09-9e44-e7bed7cf3956",
   "metadata": {},
   "outputs": [
    {
     "data": {
      "text/plain": [
       "array([ 7,  9, 11])"
      ]
     },
     "execution_count": 23,
     "metadata": {},
     "output_type": "execute_result"
    }
   ],
   "source": [
    "arr4.max(axis=1)"
   ]
  },
  {
   "cell_type": "code",
   "execution_count": 24,
   "id": "c9bfe05e-1c79-4272-a21b-3874602c98fc",
   "metadata": {},
   "outputs": [
    {
     "data": {
      "text/plain": [
       "51"
      ]
     },
     "execution_count": 24,
     "metadata": {},
     "output_type": "execute_result"
    }
   ],
   "source": [
    "arr4.sum()"
   ]
  },
  {
   "cell_type": "code",
   "execution_count": 25,
   "id": "fcd32368-0428-47ff-b272-ab3e5a71607a",
   "metadata": {},
   "outputs": [
    {
     "data": {
      "text/plain": [
       "array([24, 27])"
      ]
     },
     "execution_count": 25,
     "metadata": {},
     "output_type": "execute_result"
    }
   ],
   "source": [
    "arr4.sum(axis=0)           # Column wise sum will show"
   ]
  },
  {
   "cell_type": "code",
   "execution_count": 26,
   "id": "7b15eacc-29cf-4c47-8559-24fb1501b968",
   "metadata": {},
   "outputs": [
    {
     "data": {
      "text/plain": [
       "array([13, 17, 21])"
      ]
     },
     "execution_count": 26,
     "metadata": {},
     "output_type": "execute_result"
    }
   ],
   "source": [
    "arr4.sum(axis=1)          #ROW wise sum will show"
   ]
  },
  {
   "cell_type": "code",
   "execution_count": 27,
   "id": "63fc5b9a-3e7c-48db-999d-6f1ab5df5746",
   "metadata": {},
   "outputs": [
    {
     "data": {
      "text/plain": [
       "8.5"
      ]
     },
     "execution_count": 27,
     "metadata": {},
     "output_type": "execute_result"
    }
   ],
   "source": [
    "arr4.mean()"
   ]
  },
  {
   "cell_type": "code",
   "execution_count": 28,
   "id": "0388421a-49bd-4b2d-9cca-1dd9639896c0",
   "metadata": {},
   "outputs": [
    {
     "data": {
      "text/plain": [
       "array([8., 9.])"
      ]
     },
     "execution_count": 28,
     "metadata": {},
     "output_type": "execute_result"
    }
   ],
   "source": [
    "arr4.mean(axis=0)\n",
    "\n",
    "# column wise mean "
   ]
  },
  {
   "cell_type": "code",
   "execution_count": 29,
   "id": "7179ca46-555a-4e67-9c34-94060976f6f6",
   "metadata": {},
   "outputs": [
    {
     "data": {
      "text/plain": [
       "array([ 6.5,  8.5, 10.5])"
      ]
     },
     "execution_count": 29,
     "metadata": {},
     "output_type": "execute_result"
    }
   ],
   "source": [
    "arr4.mean(axis=1)\n",
    "\n",
    "# row wise mean"
   ]
  },
  {
   "cell_type": "code",
   "execution_count": 30,
   "id": "a7f4c7c3-959a-4947-9b97-88bbd63a6bfe",
   "metadata": {},
   "outputs": [
    {
     "data": {
      "text/plain": [
       "1.707825127659933"
      ]
     },
     "execution_count": 30,
     "metadata": {},
     "output_type": "execute_result"
    }
   ],
   "source": [
    "arr4.std()"
   ]
  },
  {
   "cell_type": "code",
   "execution_count": 31,
   "id": "e387502d-ae27-4117-9d5f-51e2ee1ab42d",
   "metadata": {},
   "outputs": [
    {
     "data": {
      "text/plain": [
       "array([[-0.2794155 ,  0.6569866 ],\n",
       "       [ 0.98935825,  0.41211849],\n",
       "       [-0.54402111, -0.99999021]])"
      ]
     },
     "execution_count": 31,
     "metadata": {},
     "output_type": "execute_result"
    }
   ],
   "source": [
    "np.sin(arr4)"
   ]
  },
  {
   "cell_type": "code",
   "execution_count": 33,
   "id": "8aa62111-e4af-439f-9381-f2f52ab7530d",
   "metadata": {},
   "outputs": [
    {
     "data": {
      "text/plain": [
       "array([[ 0.96017029,  0.75390225],\n",
       "       [-0.14550003, -0.91113026],\n",
       "       [-0.83907153,  0.0044257 ]])"
      ]
     },
     "execution_count": 33,
     "metadata": {},
     "output_type": "execute_result"
    }
   ],
   "source": [
    "np.cos(arr4)"
   ]
  },
  {
   "cell_type": "code",
   "execution_count": 34,
   "id": "03a68cf9-fa30-4b58-9066-6e289554ac26",
   "metadata": {},
   "outputs": [
    {
     "data": {
      "text/plain": [
       "array([[  -0.29100619,    0.87144798],\n",
       "       [  -6.79971146,   -0.45231566],\n",
       "       [   0.64836083, -225.95084645]])"
      ]
     },
     "execution_count": 34,
     "metadata": {},
     "output_type": "execute_result"
    }
   ],
   "source": [
    "np.tan(arr4)"
   ]
  },
  {
   "cell_type": "code",
   "execution_count": 35,
   "id": "71b110c2-cc1a-4294-a647-7c611448b19f",
   "metadata": {},
   "outputs": [
    {
     "data": {
      "text/plain": [
       "8.5"
      ]
     },
     "execution_count": 35,
     "metadata": {},
     "output_type": "execute_result"
    }
   ],
   "source": [
    "np.median(arr4)"
   ]
  },
  {
   "cell_type": "code",
   "execution_count": 37,
   "id": "1b5c7cbb-6bfa-4fe9-aeb2-90be50866013",
   "metadata": {},
   "outputs": [
    {
     "data": {
      "text/plain": [
       "array([[  403.42879349,  1096.63315843],\n",
       "       [ 2980.95798704,  8103.08392758],\n",
       "       [22026.46579481, 59874.1417152 ]])"
      ]
     },
     "execution_count": 37,
     "metadata": {},
     "output_type": "execute_result"
    }
   ],
   "source": [
    "np.exp(arr4)"
   ]
  },
  {
   "cell_type": "code",
   "execution_count": 41,
   "id": "603330c0-b287-4df6-af10-e0abbe3e23d0",
   "metadata": {},
   "outputs": [
    {
     "data": {
      "text/plain": [
       "array([ 6,  7,  8,  9, 10, 11])"
      ]
     },
     "execution_count": 41,
     "metadata": {},
     "output_type": "execute_result"
    }
   ],
   "source": [
    "arr4.ravel()\n",
    "\n",
    "# \"ravel()\" this function pull out any dimention array into single dimention it work like \"Iteration funtion\""
   ]
  },
  {
   "cell_type": "code",
   "execution_count": 43,
   "id": "019313f3-bd82-4f28-8f1f-1d7ac8365622",
   "metadata": {},
   "outputs": [
    {
     "data": {
      "text/plain": [
       "array([[ 6,  8, 10],\n",
       "       [ 7,  9, 11]])"
      ]
     },
     "execution_count": 43,
     "metadata": {},
     "output_type": "execute_result"
    }
   ],
   "source": [
    "arr4.transpose()\n",
    "\n",
    "# transpose matrix"
   ]
  },
  {
   "cell_type": "code",
   "execution_count": 45,
   "id": "3bcffdf4-fde4-4039-84f3-7c65586bda87",
   "metadata": {},
   "outputs": [
    {
     "data": {
      "text/plain": [
       "array([12, 13, 14, 15, 16, 17])"
      ]
     },
     "execution_count": 45,
     "metadata": {},
     "output_type": "execute_result"
    }
   ],
   "source": [
    "arr5=np.arange(12,18)\n",
    "arr5"
   ]
  },
  {
   "cell_type": "code",
   "execution_count": 46,
   "id": "fbdea996-480a-4828-b300-d8973144e365",
   "metadata": {},
   "outputs": [
    {
     "data": {
      "text/plain": [
       "array([[12, 13, 14],\n",
       "       [15, 16, 17]])"
      ]
     },
     "execution_count": 46,
     "metadata": {},
     "output_type": "execute_result"
    }
   ],
   "source": [
    "arr5.reshape(2,3)"
   ]
  },
  {
   "cell_type": "code",
   "execution_count": 48,
   "id": "7afac536-81f0-42d9-9948-6f93ec4e4f36",
   "metadata": {},
   "outputs": [
    {
     "data": {
      "text/plain": [
       "array([[ 0,  1,  2,  3],\n",
       "       [ 4,  5,  6,  7],\n",
       "       [ 8,  9, 10, 11],\n",
       "       [12, 13, 14, 15],\n",
       "       [16, 17, 18, 19],\n",
       "       [20, 21, 22, 23]])"
      ]
     },
     "execution_count": 48,
     "metadata": {},
     "output_type": "execute_result"
    }
   ],
   "source": [
    "arr6=np.arange(24).reshape(6,4)\n",
    "arr6"
   ]
  },
  {
   "cell_type": "code",
   "execution_count": 49,
   "id": "53078279-aedd-48eb-9675-cb27ec11b391",
   "metadata": {},
   "outputs": [],
   "source": [
    "# if i want 0,2,4 th row then we can extract by usin the following "
   ]
  },
  {
   "cell_type": "code",
   "execution_count": 50,
   "id": "c83467b2-9a98-4db0-b81a-ed874c143e71",
   "metadata": {},
   "outputs": [
    {
     "data": {
      "text/plain": [
       "array([[ 0,  1,  2,  3],\n",
       "       [ 8,  9, 10, 11],\n",
       "       [16, 17, 18, 19]])"
      ]
     },
     "execution_count": 50,
     "metadata": {},
     "output_type": "execute_result"
    }
   ],
   "source": [
    "arr6[[0,2,4]]"
   ]
  },
  {
   "cell_type": "code",
   "execution_count": 53,
   "id": "ae11a2c7-fc8b-4a8c-849e-9ed74e200cf6",
   "metadata": {},
   "outputs": [
    {
     "data": {
      "text/plain": [
       "array([[ 8,  9, 10, 11],\n",
       "       [16, 17, 18, 19],\n",
       "       [20, 21, 22, 23]])"
      ]
     },
     "execution_count": 53,
     "metadata": {},
     "output_type": "execute_result"
    }
   ],
   "source": [
    "# similarly i want 2,4,6th rows\n",
    "\n",
    "arr6[[2,4,5]]"
   ]
  },
  {
   "cell_type": "code",
   "execution_count": 54,
   "id": "94ae0304-46a0-4843-8bcd-2dc8c63ebfe6",
   "metadata": {},
   "outputs": [
    {
     "data": {
      "text/plain": [
       "array([ 8,  9, 10, 11, 12, 13, 14, 15, 16, 17, 18, 19, 20, 21, 22, 23])"
      ]
     },
     "execution_count": 54,
     "metadata": {},
     "output_type": "execute_result"
    }
   ],
   "source": [
    "arr6[arr6>7]"
   ]
  },
  {
   "cell_type": "code",
   "execution_count": 57,
   "id": "2ff8ad55-83dc-4a96-9f86-b97a6c34449c",
   "metadata": {},
   "outputs": [
    {
     "data": {
      "text/plain": [
       "array([ 9, 11, 13, 15, 17, 19, 21, 23])"
      ]
     },
     "execution_count": 57,
     "metadata": {},
     "output_type": "execute_result"
    }
   ],
   "source": [
    "arr6[(arr6>8) & (arr6%2!=0)]\n",
    "\n",
    "# want those item which are >8 and odd"
   ]
  },
  {
   "cell_type": "code",
   "execution_count": 59,
   "id": "7427ba50-a559-4f78-8937-63e8a5f1ab02",
   "metadata": {},
   "outputs": [
    {
     "data": {
      "text/plain": [
       "array([10, 12, 14, 16, 18, 20, 22])"
      ]
     },
     "execution_count": 59,
     "metadata": {},
     "output_type": "execute_result"
    }
   ],
   "source": [
    "arr6[(arr6>8) & (arr6%2==0)]\n",
    "\n",
    "# # want those item which are >8 and even"
   ]
  },
  {
   "cell_type": "code",
   "execution_count": 60,
   "id": "be3ac71d-13e2-43b8-ba9f-d75bd463ff26",
   "metadata": {},
   "outputs": [],
   "source": [
    "##   Graph Ploting "
   ]
  },
  {
   "cell_type": "code",
   "execution_count": 61,
   "id": "564beb75-0dec-48a9-9fa2-8c4d36b8e5e6",
   "metadata": {},
   "outputs": [
    {
     "data": {
      "text/plain": [
       "array([-40.        , -39.19191919, -38.38383838, -37.57575758,\n",
       "       -36.76767677, -35.95959596, -35.15151515, -34.34343434,\n",
       "       -33.53535354, -32.72727273, -31.91919192, -31.11111111,\n",
       "       -30.3030303 , -29.49494949, -28.68686869, -27.87878788,\n",
       "       -27.07070707, -26.26262626, -25.45454545, -24.64646465,\n",
       "       -23.83838384, -23.03030303, -22.22222222, -21.41414141,\n",
       "       -20.60606061, -19.7979798 , -18.98989899, -18.18181818,\n",
       "       -17.37373737, -16.56565657, -15.75757576, -14.94949495,\n",
       "       -14.14141414, -13.33333333, -12.52525253, -11.71717172,\n",
       "       -10.90909091, -10.1010101 ,  -9.29292929,  -8.48484848,\n",
       "        -7.67676768,  -6.86868687,  -6.06060606,  -5.25252525,\n",
       "        -4.44444444,  -3.63636364,  -2.82828283,  -2.02020202,\n",
       "        -1.21212121,  -0.4040404 ,   0.4040404 ,   1.21212121,\n",
       "         2.02020202,   2.82828283,   3.63636364,   4.44444444,\n",
       "         5.25252525,   6.06060606,   6.86868687,   7.67676768,\n",
       "         8.48484848,   9.29292929,  10.1010101 ,  10.90909091,\n",
       "        11.71717172,  12.52525253,  13.33333333,  14.14141414,\n",
       "        14.94949495,  15.75757576,  16.56565657,  17.37373737,\n",
       "        18.18181818,  18.98989899,  19.7979798 ,  20.60606061,\n",
       "        21.41414141,  22.22222222,  23.03030303,  23.83838384,\n",
       "        24.64646465,  25.45454545,  26.26262626,  27.07070707,\n",
       "        27.87878788,  28.68686869,  29.49494949,  30.3030303 ,\n",
       "        31.11111111,  31.91919192,  32.72727273,  33.53535354,\n",
       "        34.34343434,  35.15151515,  35.95959596,  36.76767677,\n",
       "        37.57575758,  38.38383838,  39.19191919,  40.        ])"
      ]
     },
     "execution_count": 61,
     "metadata": {},
     "output_type": "execute_result"
    }
   ],
   "source": [
    "x=np.linspace(-40,40,100)\n",
    "x"
   ]
  },
  {
   "cell_type": "code",
   "execution_count": 63,
   "id": "2ca1a441-b360-45fc-bc61-f4febe3c714b",
   "metadata": {},
   "outputs": [
    {
     "data": {
      "text/plain": [
       "(100,)"
      ]
     },
     "execution_count": 63,
     "metadata": {},
     "output_type": "execute_result"
    }
   ],
   "source": [
    "x.shape"
   ]
  },
  {
   "cell_type": "code",
   "execution_count": 65,
   "id": "22615271-2581-4ea2-929d-e8639c5cced4",
   "metadata": {},
   "outputs": [
    {
     "data": {
      "text/plain": [
       "array([-0.74511316, -0.9969604 , -0.63246122,  0.12304167,  0.80247705,\n",
       "        0.98580059,  0.55967698, -0.21245326, -0.85323945, -0.96653119,\n",
       "       -0.48228862,  0.30011711,  0.89698277,  0.93931073,  0.40093277,\n",
       "       -0.38531209, -0.93334716, -0.90436313, -0.31627868,  0.46733734,\n",
       "        0.96203346,  0.86197589,  0.22902277, -0.54551809, -0.9828057 ,\n",
       "       -0.81249769, -0.13988282,  0.61921119,  0.995493  ,  0.75633557,\n",
       "        0.04959214, -0.68781042, -0.99999098, -0.69395153,  0.0411065 ,\n",
       "        0.75075145,  0.99626264,  0.62585878, -0.13146699, -0.8075165 ,\n",
       "       -0.98433866, -0.55261747,  0.22074597,  0.85763861,  0.96431712,\n",
       "        0.47483011, -0.30820902, -0.90070545, -0.93636273, -0.39313661,\n",
       "        0.39313661,  0.93636273,  0.90070545,  0.30820902, -0.47483011,\n",
       "       -0.96431712, -0.85763861, -0.22074597,  0.55261747,  0.98433866,\n",
       "        0.8075165 ,  0.13146699, -0.62585878, -0.99626264, -0.75075145,\n",
       "       -0.0411065 ,  0.69395153,  0.99999098,  0.68781042, -0.04959214,\n",
       "       -0.75633557, -0.995493  , -0.61921119,  0.13988282,  0.81249769,\n",
       "        0.9828057 ,  0.54551809, -0.22902277, -0.86197589, -0.96203346,\n",
       "       -0.46733734,  0.31627868,  0.90436313,  0.93334716,  0.38531209,\n",
       "       -0.40093277, -0.93931073, -0.89698277, -0.30011711,  0.48228862,\n",
       "        0.96653119,  0.85323945,  0.21245326, -0.55967698, -0.98580059,\n",
       "       -0.80247705, -0.12304167,  0.63246122,  0.9969604 ,  0.74511316])"
      ]
     },
     "execution_count": 65,
     "metadata": {},
     "output_type": "execute_result"
    }
   ],
   "source": [
    "y=np.sin(x)\n",
    "y"
   ]
  },
  {
   "cell_type": "code",
   "execution_count": 66,
   "id": "f718b91f-e623-47d4-8be0-ad95f969c925",
   "metadata": {},
   "outputs": [],
   "source": [
    "import matplotlib.pyplot as plt\n",
    "%matplotlib inline"
   ]
  },
  {
   "cell_type": "code",
   "execution_count": 67,
   "id": "075c782b-7b20-4aca-8be9-705021b224d3",
   "metadata": {},
   "outputs": [
    {
     "data": {
      "text/plain": [
       "[<matplotlib.lines.Line2D at 0x23fb2d71850>]"
      ]
     },
     "execution_count": 67,
     "metadata": {},
     "output_type": "execute_result"
    },
    {
     "data": {
      "image/png": "[encoded data removed]",
      "text/plain": [
       "<Figure size 640x480 with 1 Axes>"
      ]
     },
     "metadata": {},
     "output_type": "display_data"
    }
   ],
   "source": [
    "plt.plot(x,y)"
   ]
  },
  {
   "cell_type": "code",
   "execution_count": 69,
   "id": "ac9b5154-6796-4618-a20c-c184d5552b82",
   "metadata": {},
   "outputs": [
    {
     "data": {
      "text/plain": [
       "array([-0.66693806,  0.07790994,  0.77459203,  0.9924015 ,  0.59668298,\n",
       "       -0.16792023, -0.82871085, -0.97717123, -0.52151935,  0.25654913,\n",
       "        0.87601238,  0.95390236,  0.4420655 , -0.34306756, -0.91610748,\n",
       "       -0.92278632, -0.35897505,  0.42676378,  0.94866632,  0.88407908,\n",
       "        0.27293152, -0.50694928, -0.97342107, -0.83809905, -0.18464276,\n",
       "        0.58296441,  0.99016807,  0.78522449,  0.09483505, -0.65418385,\n",
       "       -0.99876955, -0.72589037, -0.00424719,  0.72002171,  0.99915477,\n",
       "        0.66058479, -0.08637561, -0.7799364 , -0.99132055, -0.58984498,\n",
       "        0.17628785,  0.83343502,  0.97533134,  0.51425287, -0.26474988,\n",
       "       -0.88007748, -0.95131866, -0.43443032,  0.35103397,  0.91948007,\n",
       "        0.91948007,  0.35103397, -0.43443032, -0.95131866, -0.88007748,\n",
       "       -0.26474988,  0.51425287,  0.97533134,  0.83343502,  0.17628785,\n",
       "       -0.58984498, -0.99132055, -0.7799364 , -0.08637561,  0.66058479,\n",
       "        0.99915477,  0.72002171, -0.00424719, -0.72589037, -0.99876955,\n",
       "       -0.65418385,  0.09483505,  0.78522449,  0.99016807,  0.58296441,\n",
       "       -0.18464276, -0.83809905, -0.97342107, -0.50694928,  0.27293152,\n",
       "        0.88407908,  0.94866632,  0.42676378, -0.35897505, -0.92278632,\n",
       "       -0.91610748, -0.34306756,  0.4420655 ,  0.95390236,  0.87601238,\n",
       "        0.25654913, -0.52151935, -0.97717123, -0.82871085, -0.16792023,\n",
       "        0.59668298,  0.9924015 ,  0.77459203,  0.07790994, -0.66693806])"
      ]
     },
     "execution_count": 69,
     "metadata": {},
     "output_type": "execute_result"
    }
   ],
   "source": [
    "z=np.cos(x)\n",
    "z"
   ]
  },
  {
   "cell_type": "code",
   "execution_count": 70,
   "id": "fe4b7f01-80dd-4956-a1cb-25df22d5d14c",
   "metadata": {},
   "outputs": [
    {
     "data": {
      "text/plain": [
       "[<matplotlib.lines.Line2D at 0x23fb2dce510>]"
      ]
     },
     "execution_count": 70,
     "metadata": {},
     "output_type": "execute_result"
    },
    {
     "data": {
      "image/png": "[encoded data removed]",
      "text/plain": [
       "<Figure size 640x480 with 1 Axes>"
      ]
     },
     "metadata": {},
     "output_type": "display_data"
    }
   ],
   "source": [
    "plt.plot(x,z)"
   ]
  },
  {
   "cell_type": "code",
   "execution_count": 71,
   "id": "1c546815-a5be-43eb-b09c-5996df6935a0",
   "metadata": {},
   "outputs": [],
   "source": [
    "y=x*x+2*x+6"
   ]
  },
  {
   "cell_type": "code",
   "execution_count": 72,
   "id": "619f05ae-4d2c-475e-8446-f599abce3b86",
   "metadata": {},
   "outputs": [
    {
     "data": {
      "text/plain": [
       "[<matplotlib.lines.Line2D at 0x23fb3fe3890>]"
      ]
     },
     "execution_count": 72,
     "metadata": {},
     "output_type": "execute_result"
    },
    {
     "data": {
      "image/png": "[encoded data removed]",
      "text/plain": [
       "<Figure size 640x480 with 1 Axes>"
      ]
     },
     "metadata": {},
     "output_type": "display_data"
    }
   ],
   "source": [
    "plt.plot(x,y)"
   ]
  },
  {
   "cell_type": "code",
   "execution_count": 1,
   "id": "8601a9d8-38df-42cc-9a30-945aacf00729",
   "metadata": {},
   "outputs": [],
   "source": [
    "import numpy as np"
   ]
  },
  {
   "cell_type": "code",
   "execution_count": 7,
   "id": "ae72870b-4809-466e-b281-11a4d3ca0dd1",
   "metadata": {},
   "outputs": [],
   "source": [
    "#  SOME IMPORTANT FORMULE "
   ]
  },
  {
   "cell_type": "code",
   "execution_count": 8,
   "id": "c56a94ef-0357-464a-9be3-08c3544be9ee",
   "metadata": {},
   "outputs": [
    {
     "data": {
      "text/plain": [
       "0.7739640195425751"
      ]
     },
     "execution_count": 8,
     "metadata": {},
     "output_type": "execute_result"
    }
   ],
   "source": [
    "np.random.random()\n",
    "\n",
    "#  we can generate the any random value"
   ]
  },
  {
   "cell_type": "code",
   "execution_count": 10,
   "id": "bf6a9fb6-254e-44c5-b96f-45cd39890258",
   "metadata": {},
   "outputs": [
    {
     "data": {
      "text/plain": [
       "1.4854239977878385"
      ]
     },
     "execution_count": 10,
     "metadata": {},
     "output_type": "execute_result"
    }
   ],
   "source": [
    "np.random.uniform(1,5)\n",
    "\n",
    "# we can genrate the any random value with the given range by using the above function"
   ]
  },
  {
   "cell_type": "code",
   "execution_count": 12,
   "id": "66cc5bfc-0605-49f3-9c4e-213be82e943e",
   "metadata": {},
   "outputs": [
    {
     "data": {
      "text/plain": [
       "array([10.95682742, 21.05255976, 11.16411671, 20.47536334, 14.91741468,\n",
       "       39.76912148, 22.93897967, 41.63434186, 36.64810662, 25.25278242])"
      ]
     },
     "execution_count": 12,
     "metadata": {},
     "output_type": "execute_result"
    }
   ],
   "source": [
    "np.random.uniform(10,50,10)"
   ]
  },
  {
   "cell_type": "code",
   "execution_count": 13,
   "id": "bbb0b5c1-4810-41f2-916b-0d1496d6166e",
   "metadata": {},
   "outputs": [
    {
     "data": {
      "text/plain": [
       "array([80.8977536 , 52.66696645, 44.08263173, 59.11590466,  6.93222711,\n",
       "       22.2891564 , 98.43890792, 79.68474482, 56.53289313,  8.68847203,\n",
       "        4.45599025, 36.38366026, 16.16319671, 70.18141749, 10.98413857,\n",
       "       40.93476791,  8.27313376, 68.43992319, 87.80582663, 29.46786357])"
      ]
     },
     "execution_count": 13,
     "metadata": {},
     "output_type": "execute_result"
    }
   ],
   "source": [
    "np.random.uniform(1,100,20)"
   ]
  },
  {
   "cell_type": "code",
   "execution_count": 14,
   "id": "9ea5c8c7-11af-4c46-9d81-924d83d19760",
   "metadata": {},
   "outputs": [],
   "source": [
    "# similarly we can generate the random value\"int only\" within the given range by using the following formul"
   ]
  },
  {
   "cell_type": "code",
   "execution_count": 23,
   "id": "2f25ce43-c751-4d3e-be9b-4df12818c589",
   "metadata": {},
   "outputs": [
    {
     "data": {
      "text/plain": [
       "array([9, 9, 6, 3, 1, 3])"
      ]
     },
     "execution_count": 23,
     "metadata": {},
     "output_type": "execute_result"
    }
   ],
   "source": [
    "\n",
    "np.random.randint(1,10,6)"
   ]
  },
  {
   "cell_type": "code",
   "execution_count": 25,
   "id": "99d104cc-cb5e-4ea6-bf7e-c5a223f6f9ee",
   "metadata": {},
   "outputs": [
    {
     "data": {
      "text/plain": [
       "array([[ 6,  5],\n",
       "       [26,  2],\n",
       "       [18, 43],\n",
       "       [36, 42],\n",
       "       [27, 11]])"
      ]
     },
     "execution_count": 25,
     "metadata": {},
     "output_type": "execute_result"
    }
   ],
   "source": [
    "np.random.randint(1,50,10).reshape(5,2)"
   ]
  },
  {
   "cell_type": "code",
   "execution_count": 28,
   "id": "72d8f25e-496a-451f-bc26-42d1c21aa8db",
   "metadata": {},
   "outputs": [
    {
     "data": {
      "text/plain": [
       "array([[19, 33, 34, 56],\n",
       "       [96, 16, 30,  4],\n",
       "       [86, 63, 61, 10],\n",
       "       [ 9, 48, 69, 57],\n",
       "       [20, 61, 94, 51]])"
      ]
     },
     "execution_count": 28,
     "metadata": {},
     "output_type": "execute_result"
    }
   ],
   "source": [
    "ar=np.random.randint(1,100,20).reshape(5,4)\n",
    "ar"
   ]
  },
  {
   "cell_type": "code",
   "execution_count": 29,
   "id": "ab88f48e-a8b6-4e76-9867-cf36aaf301fb",
   "metadata": {},
   "outputs": [
    {
     "data": {
      "text/plain": [
       "4"
      ]
     },
     "execution_count": 29,
     "metadata": {},
     "output_type": "execute_result"
    }
   ],
   "source": [
    "ar.min()"
   ]
  },
  {
   "cell_type": "code",
   "execution_count": 30,
   "id": "1089c56a-ba8a-46e3-881f-9fb7562745d0",
   "metadata": {},
   "outputs": [
    {
     "data": {
      "text/plain": [
       "96"
      ]
     },
     "execution_count": 30,
     "metadata": {},
     "output_type": "execute_result"
    }
   ],
   "source": [
    "ar.max()"
   ]
  },
  {
   "cell_type": "code",
   "execution_count": 32,
   "id": "3c1a2115-7cf8-4350-8007-adf5f4a7103b",
   "metadata": {},
   "outputs": [
    {
     "data": {
      "text/plain": [
       "49.5"
      ]
     },
     "execution_count": 32,
     "metadata": {},
     "output_type": "execute_result"
    }
   ],
   "source": [
    "np.median(ar)"
   ]
  },
  {
   "cell_type": "code",
   "execution_count": 33,
   "id": "277746c0-489b-4394-b0e7-071a75c53262",
   "metadata": {},
   "outputs": [
    {
     "data": {
      "text/plain": [
       "array([[86, 63, 61, 10],\n",
       "       [20, 61, 94, 51]])"
      ]
     },
     "execution_count": 33,
     "metadata": {},
     "output_type": "execute_result"
    }
   ],
   "source": [
    "ar[[2,4]]"
   ]
  },
  {
   "cell_type": "code",
   "execution_count": 34,
   "id": "0617154f-256a-496e-9555-1134e628aacb",
   "metadata": {},
   "outputs": [
    {
     "data": {
      "text/plain": [
       "61"
      ]
     },
     "execution_count": 34,
     "metadata": {},
     "output_type": "execute_result"
    }
   ],
   "source": [
    "ar[2][2]"
   ]
  },
  {
   "cell_type": "code",
   "execution_count": 35,
   "id": "3a91b78a-ea81-46e0-b0f2-5ff035a15565",
   "metadata": {},
   "outputs": [
    {
     "data": {
      "text/plain": [
       "array([[19, 33, 34, 56],\n",
       "       [ 4, 16, 30, 96],\n",
       "       [10, 61, 63, 86],\n",
       "       [ 9, 48, 57, 69],\n",
       "       [20, 51, 61, 94]])"
      ]
     },
     "execution_count": 35,
     "metadata": {},
     "output_type": "execute_result"
    }
   ],
   "source": [
    "np.sort(ar)"
   ]
  },
  {
   "cell_type": "code",
   "execution_count": 37,
   "id": "0f6b64d8-97a7-4c23-81fe-cb8fd559f0ad",
   "metadata": {},
   "outputs": [
    {
     "data": {
      "text/plain": [
       "array([20, 35, 33, 28, 36, 16,  7,  5, 42, 38, 35, 20,  7,  6,  1, 25, 11,\n",
       "       12, 12, 10])"
      ]
     },
     "execution_count": 37,
     "metadata": {},
     "output_type": "execute_result"
    }
   ],
   "source": [
    "ar1=np.random.randint(1,50,20)\n",
    "ar1"
   ]
  },
  {
   "cell_type": "code",
   "execution_count": 38,
   "id": "caab45f9-ee4d-4495-984a-db81b40f8483",
   "metadata": {},
   "outputs": [
    {
     "data": {
      "text/plain": [
       "array([ 1,  5,  6,  7,  7, 10, 11, 12, 12, 16, 20, 20, 25, 28, 33, 35, 35,\n",
       "       36, 38, 42])"
      ]
     },
     "execution_count": 38,
     "metadata": {},
     "output_type": "execute_result"
    }
   ],
   "source": [
    "np.sort(ar1)"
   ]
  },
  {
   "cell_type": "code",
   "execution_count": 39,
   "id": "88c308fd-a965-4dd8-8996-4747ee7cc691",
   "metadata": {},
   "outputs": [],
   "source": [
    "#  \"percentile\" this function shows that the how much data is greater than or less than providing percentile value"
   ]
  },
  {
   "cell_type": "code",
   "execution_count": 41,
   "id": "f97fd528-517f-4894-bcb3-6c188821a381",
   "metadata": {},
   "outputs": [
    {
     "data": {
      "text/plain": [
       "18.0"
      ]
     },
     "execution_count": 41,
     "metadata": {},
     "output_type": "execute_result"
    }
   ],
   "source": [
    "np.percentile(ar1,50)"
   ]
  },
  {
   "cell_type": "code",
   "execution_count": 42,
   "id": "ecee9286-1f5a-447e-90b7-ff08f64dcbd1",
   "metadata": {},
   "outputs": [
    {
     "data": {
      "text/plain": [
       "9.25"
      ]
     },
     "execution_count": 42,
     "metadata": {},
     "output_type": "execute_result"
    }
   ],
   "source": [
    "np.percentile(ar1,25)"
   ]
  },
  {
   "cell_type": "code",
   "execution_count": 43,
   "id": "594acb55-a743-40bd-aec6-1deae6f635b3",
   "metadata": {},
   "outputs": [
    {
     "data": {
      "text/plain": [
       "5.9"
      ]
     },
     "execution_count": 43,
     "metadata": {},
     "output_type": "execute_result"
    }
   ],
   "source": [
    "np.percentile(ar1,10)"
   ]
  },
  {
   "cell_type": "code",
   "execution_count": 47,
   "id": "463a33db-2e08-4156-b68f-54d4e1913435",
   "metadata": {},
   "outputs": [
    {
     "data": {
      "text/plain": [
       "19.95"
      ]
     },
     "execution_count": 47,
     "metadata": {},
     "output_type": "execute_result"
    }
   ],
   "source": [
    "ar1.mean()"
   ]
  },
  {
   "cell_type": "code",
   "execution_count": null,
   "id": "10a09d54-2892-4a17-b1ac-801201440967",
   "metadata": {},
   "outputs": [],
   "source": []
  }
 ],
 "metadata": {
  "kernelspec": {
   "display_name": "Python 3 (ipykernel)",
   "language": "python",
   "name": "python3"
  },
  "language_info": {
   "codemirror_mode": {
    "name": "ipython",
    "version": 3
   },
   "file_extension": ".py",
   "mimetype": "text/x-python",
   "name": "python",
   "nbconvert_exporter": "python",
   "pygments_lexer": "ipython3",
   "version": "3.11.7"
  }
 },
 "nbformat": 4,
 "nbformat_minor": 5
}
